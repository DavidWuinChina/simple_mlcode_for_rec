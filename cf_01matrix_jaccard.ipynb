{
 "cells": [
  {
   "cell_type": "code",
   "id": "initial_id",
   "metadata": {
    "collapsed": true,
    "ExecuteTime": {
     "end_time": "2025-03-14T05:24:14.872961Z",
     "start_time": "2025-03-14T05:24:14.862405Z"
    }
   },
   "source": [
    "users = [\"User1\", \"User2\", \"User3\", \"User4\", \"User5\"]\n",
    "items = [\"Item A\", \"Item B\", \"Item C\", \"Item D\", \"Item E\"]\n",
    "datasets = [\n",
    "    [1, 0, 1, 1, 0],\n",
    "    [1, 0, 1, 1, 1],\n",
    "    [0, 1, 0, 0, 0],\n",
    "    [0, 1, 1, 0, 1],\n",
    "    [1, 1, 0, 1, 1],\n",
    "]\n",
    "\n",
    "import pandas as pd\n",
    "df = pd.DataFrame(datasets, columns=items, index=users)\n",
    "print(df)"
   ],
   "outputs": [
    {
     "name": "stdout",
     "output_type": "stream",
     "text": [
      "       Item A  Item B  Item C  Item D  Item E\n",
      "User1       1       0       1       1       0\n",
      "User2       1       0       1       1       1\n",
      "User3       0       1       0       0       0\n",
      "User4       0       1       1       0       1\n",
      "User5       1       1       0       1       1\n"
     ]
    }
   ],
   "execution_count": 40
  },
  {
   "metadata": {
    "ExecuteTime": {
     "end_time": "2025-03-14T05:24:14.884515Z",
     "start_time": "2025-03-14T05:24:14.874970Z"
    }
   },
   "cell_type": "code",
   "source": [
    "import pandas as pd\n",
    "from sklearn.metrics import jaccard_score\n",
    "from sklearn.metrics.pairwise import pairwise_distances\n",
    "\n",
    "# 将数据框转换为布尔型\n",
    "df = df.astype(bool)\n",
    "\n",
    "# 计算 Item A 和 Item B 的 Jaccard 相似度\n",
    "jaccard_score_ab = jaccard_score(df[\"Item A\"], df[\"Item B\"])\n",
    "print(f\"Item A 和 Item B 的 Jaccard 相似度: {jaccard_score_ab}\")"
   ],
   "id": "1cb63e85544a570d",
   "outputs": [
    {
     "name": "stdout",
     "output_type": "stream",
     "text": [
      "Item A 和 Item B 的 Jaccard 相似度: 0.2\n"
     ]
    }
   ],
   "execution_count": 41
  },
  {
   "metadata": {
    "ExecuteTime": {
     "end_time": "2025-03-14T05:24:14.891884Z",
     "start_time": "2025-03-14T05:24:14.885524Z"
    }
   },
   "cell_type": "code",
   "source": "df.values",
   "id": "e14f2a96bbb60cfe",
   "outputs": [
    {
     "data": {
      "text/plain": [
       "array([[ True, False,  True,  True, False],\n",
       "       [ True, False,  True,  True,  True],\n",
       "       [False,  True, False, False, False],\n",
       "       [False,  True,  True, False,  True],\n",
       "       [ True,  True, False,  True,  True]])"
      ]
     },
     "execution_count": 42,
     "metadata": {},
     "output_type": "execute_result"
    }
   ],
   "execution_count": 42
  },
  {
   "metadata": {
    "ExecuteTime": {
     "end_time": "2025-03-14T05:24:14.902971Z",
     "start_time": "2025-03-14T05:24:14.893898Z"
    }
   },
   "cell_type": "code",
   "source": [
    "# 计算用户之间的 Jaccard 相似度\n",
    "user_similar = 1 - pairwise_distances(df.values, metric=\"jaccard\")\n",
    "user_similar_df = pd.DataFrame(user_similar, columns=users, index=users)\n",
    "print(\"用户之间的 Jaccard 相似度：\")\n",
    "print(user_similar_df)\n",
    "\n",
    "# 计算物品之间的 Jaccard 相似度\n",
    "item_similar = 1 - pairwise_distances(df.T.values, metric=\"jaccard\")\n",
    "item_similar_df = pd.DataFrame(item_similar, columns=items, index=items)\n",
    "print(\"物品之间的 Jaccard 相似度：\")\n",
    "print(item_similar_df)"
   ],
   "id": "586a465e893fd20a",
   "outputs": [
    {
     "name": "stdout",
     "output_type": "stream",
     "text": [
      "用户之间的 Jaccard 相似度：\n",
      "       User1  User2     User3     User4  User5\n",
      "User1   1.00   0.75  0.000000  0.200000   0.40\n",
      "User2   0.75   1.00  0.000000  0.400000   0.60\n",
      "User3   0.00   0.00  1.000000  0.333333   0.25\n",
      "User4   0.20   0.40  0.333333  1.000000   0.40\n",
      "User5   0.40   0.60  0.250000  0.400000   1.00\n",
      "物品之间的 Jaccard 相似度：\n",
      "        Item A  Item B  Item C  Item D  Item E\n",
      "Item A     1.0     0.2     0.5     1.0     0.5\n",
      "Item B     0.2     1.0     0.2     0.2     0.5\n",
      "Item C     0.5     0.2     1.0     0.5     0.5\n",
      "Item D     1.0     0.2     0.5     1.0     0.5\n",
      "Item E     0.5     0.5     0.5     0.5     1.0\n"
     ]
    }
   ],
   "execution_count": 43
  },
  {
   "metadata": {
    "ExecuteTime": {
     "end_time": "2025-03-14T05:24:14.912246Z",
     "start_time": "2025-03-14T05:24:14.903977Z"
    }
   },
   "cell_type": "code",
   "source": [
    "topN_users = {}\n",
    "\n",
    "# 遍历每一行数据\n",
    "for user in user_similar_df.index:\n",
    "    # 获取相似度，删除自己的相似度，然后按相似度排序\n",
    "    _df = user_similar_df.loc[user].drop(user)\n",
    "    _df_sorted = _df.sort_values(ascending=False)\n",
    "    # 获取前两个相似用户\n",
    "    top2 = list(_df_sorted.index[:2])\n",
    "    topN_users[user] = top2\n"
   ],
   "id": "8159400cb836dc76",
   "outputs": [],
   "execution_count": 44
  },
  {
   "metadata": {
    "ExecuteTime": {
     "end_time": "2025-03-14T05:24:14.919461Z",
     "start_time": "2025-03-14T05:24:14.913251Z"
    }
   },
   "cell_type": "code",
   "source": [
    "print(\"Top2相似用户：\")\n",
    "print(topN_users)"
   ],
   "id": "9c1dfca835eb6d69",
   "outputs": [
    {
     "name": "stdout",
     "output_type": "stream",
     "text": [
      "Top2相似用户：\n",
      "{'User1': ['User2', 'User5'], 'User2': ['User1', 'User5'], 'User3': ['User4', 'User5'], 'User4': ['User2', 'User5'], 'User5': ['User2', 'User1']}\n"
     ]
    }
   ],
   "execution_count": 45
  },
  {
   "metadata": {
    "ExecuteTime": {
     "end_time": "2025-03-14T05:32:14.861628Z",
     "start_time": "2025-03-14T05:32:14.852540Z"
    }
   },
   "cell_type": "code",
   "source": [
    "rs_results = {}\n",
    "\n",
    "# 遍历每个用户及其相似用户\n",
    "for user, sim_users in topN_users.items():\n",
    "    rs_result = set()  # 为每个用户保存推荐结果\n",
    "    \n",
    "    for sim_user in sim_users:\n",
    "        # 获取相似用户的评分\n",
    "        bought_items = df.loc[sim_user]\n",
    "        print(f\"{sim_user}的评分: {bought_items.to_list()}\")\n",
    "        \n",
    "        # 进行初步推荐（提取所有已购买的物品）\n",
    "        rs_result = rs_result.union(set(bought_items[bought_items == 1].index))\n",
    "    \n",
    "    # 过滤掉用户已经购买过的物品\n",
    "    purchased_items = set(df.loc[user][df.loc[user] == 1].index)\n",
    "    rs_result -= purchased_items\n",
    "    \n",
    "    print(f\"过滤后推荐结果: {rs_result}\")\n",
    "    \n",
    "    rs_results[user] = rs_result  # 存储最终推荐结果"
   ],
   "id": "77cdcd04f02136e6",
   "outputs": [
    {
     "name": "stdout",
     "output_type": "stream",
     "text": [
      "User2的评分: [True, False, True, True, True]\n",
      "User5的评分: [True, True, False, True, True]\n",
      "过滤后推荐结果: {'Item E', 'Item B'}\n",
      "User1的评分: [True, False, True, True, False]\n",
      "User5的评分: [True, True, False, True, True]\n",
      "过滤后推荐结果: {'Item B'}\n",
      "User4的评分: [False, True, True, False, True]\n",
      "User5的评分: [True, True, False, True, True]\n",
      "过滤后推荐结果: {'Item E', 'Item D', 'Item A', 'Item C'}\n",
      "User2的评分: [True, False, True, True, True]\n",
      "User5的评分: [True, True, False, True, True]\n",
      "过滤后推荐结果: {'Item D', 'Item A'}\n",
      "User2的评分: [True, False, True, True, True]\n",
      "User1的评分: [True, False, True, True, False]\n",
      "过滤后推荐结果: {'Item C'}\n"
     ]
    }
   ],
   "execution_count": 57
  },
  {
   "metadata": {
    "ExecuteTime": {
     "end_time": "2025-03-14T05:32:38.769313Z",
     "start_time": "2025-03-14T05:32:38.764276Z"
    }
   },
   "cell_type": "code",
   "source": "rs_results",
   "id": "115c74513665e346",
   "outputs": [
    {
     "data": {
      "text/plain": [
       "{'User1': {'Item B', 'Item E'},\n",
       " 'User2': {'Item B'},\n",
       " 'User3': {'Item A', 'Item C', 'Item D', 'Item E'},\n",
       " 'User4': {'Item A', 'Item D'},\n",
       " 'User5': {'Item C'}}"
      ]
     },
     "execution_count": 58,
     "metadata": {},
     "output_type": "execute_result"
    }
   ],
   "execution_count": 58
  },
  {
   "metadata": {
    "ExecuteTime": {
     "end_time": "2025-03-14T05:24:15.028377Z",
     "start_time": "2025-03-14T05:24:15.025031Z"
    }
   },
   "cell_type": "code",
   "source": "",
   "id": "a62490a931ae2656",
   "outputs": [],
   "execution_count": 47
  }
 ],
 "metadata": {
  "kernelspec": {
   "display_name": "Python 3",
   "language": "python",
   "name": "python3"
  },
  "language_info": {
   "codemirror_mode": {
    "name": "ipython",
    "version": 2
   },
   "file_extension": ".py",
   "mimetype": "text/x-python",
   "name": "python",
   "nbconvert_exporter": "python",
   "pygments_lexer": "ipython2",
   "version": "2.7.6"
  }
 },
 "nbformat": 4,
 "nbformat_minor": 5
}
