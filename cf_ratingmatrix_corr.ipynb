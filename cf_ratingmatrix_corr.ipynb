{
 "cells": [
  {
   "metadata": {},
   "cell_type": "markdown",
   "source": "# 当评分矩阵是稠密的",
   "id": "36419f3c55970b75"
  },
  {
   "metadata": {},
   "cell_type": "code",
   "outputs": [],
   "execution_count": 1,
   "source": [
    "users = [\"User1\", \"User2\", \"User3\", \"User4\", \"User5\"]  # 用户列表\n",
    "items = [\"Item A\", \"Item B\", \"Item C\", \"Item D\", \"Item E\"]  # 物品列表\n",
    "\n",
    "# 用户购买记录数据集\n",
    "datasets = [\n",
    "    [5, 3, 4, 4, None],  # User1 对应的评分记录\n",
    "    [3, 1, 2, 3, 3],     # User2 的评分\n",
    "    [4, 3, 4, 3, 5],     # User3 的评分\n",
    "    [3, 3, 1, 5, 4],     # User4 的评分\n",
    "    [1, 5, 5, 2, 1],     # User5 的评分\n",
    "]"
   ],
   "id": "initial_id"
  },
  {
   "metadata": {
    "ExecuteTime": {
     "end_time": "2025-03-14T05:37:42.421201Z",
     "start_time": "2025-03-14T05:37:42.413978Z"
    }
   },
   "cell_type": "code",
   "source": "datasets",
   "id": "a867f9721dedf267",
   "outputs": [
    {
     "data": {
      "text/plain": [
       "[[5, 3, 4, 4, None],\n",
       " [3, 1, 2, 3, 3],\n",
       " [4, 3, 4, 3, 5],\n",
       " [3, 3, 1, 5, 4],\n",
       " [1, 5, 5, 2, 1]]"
      ]
     },
     "execution_count": 2,
     "metadata": {},
     "output_type": "execute_result"
    }
   ],
   "execution_count": 2
  },
  {
   "metadata": {
    "ExecuteTime": {
     "end_time": "2025-03-14T05:38:17.837033Z",
     "start_time": "2025-03-14T05:38:17.270367Z"
    }
   },
   "cell_type": "code",
   "source": [
    "import pandas as pd\n",
    "\n",
    "# 将用户购买记录转换为 DataFrame\n",
    "df = pd.DataFrame(datasets, columns=items, index=users)\n",
    "\n",
    "print(\"用户之间的两两相似度：\")\n",
    "# 直接计算皮尔逊相关系数\n",
    "user_similar = df.T.corr()  # 转置以计算用户间的相似度\n",
    "print(user_similar.round(4))\n",
    "\n",
    "print(\"物品之间的两两相似度：\")\n",
    "item_similar = df.corr()  # 计算物品间的相似度\n",
    "print(item_similar.round(4))"
   ],
   "id": "fc39fd59158a03f0",
   "outputs": [
    {
     "name": "stdout",
     "output_type": "stream",
     "text": [
      "用户之间的两两相似度：\n",
      "        User1   User2   User3   User4   User5\n",
      "User1  1.0000  0.8528  0.7071  0.0000 -0.7921\n",
      "User2  0.8528  1.0000  0.4677  0.4900 -0.9001\n",
      "User3  0.7071  0.4677  1.0000 -0.1612 -0.4666\n",
      "User4  0.0000  0.4900 -0.1612  1.0000 -0.6415\n",
      "User5 -0.7921 -0.9001 -0.4666 -0.6415  1.0000\n",
      "物品之间的两两相似度：\n",
      "        Item A  Item B  Item C  Item D  Item E\n",
      "Item A  1.0000 -0.4767 -0.1231  0.5322  0.9695\n",
      "Item B -0.4767  1.0000  0.6455 -0.3101 -0.4781\n",
      "Item C -0.1231  0.6455  1.0000 -0.7206 -0.4276\n",
      "Item D  0.5322 -0.3101 -0.7206  1.0000  0.5817\n",
      "Item E  0.9695 -0.4781 -0.4276  0.5817  1.0000\n"
     ]
    }
   ],
   "execution_count": 3
  },
  {
   "metadata": {
    "ExecuteTime": {
     "end_time": "2025-03-14T05:47:48.374670Z",
     "start_time": "2025-03-14T05:47:48.366512Z"
    }
   },
   "cell_type": "code",
   "source": [
    "# 预测用户1对物品5的评分\n",
    "user_id = 'User1'\n",
    "item_id = 'Item E'\n",
    "\n",
    "# 获取与用户1相似的用户及其相似度\n",
    "similar_users = user_similar[user_id].drop(user_id).dropna()\n",
    "similar_users = similar_users[similar_users > 0.7]\n",
    "print(similar_users)\n",
    "# 获取这些相似用户的评分\n",
    "similar_users_score = df[item_id].dropna()\n",
    "\n",
    "# 只取与用户1相似且对物品5有评分的用户\n",
    "relevant_similar_users = similar_users[similar_users.index.isin(similar_users_score.index)]\n",
    "\n",
    "# 计算加权平均评分\n",
    "if not relevant_similar_users.empty:\n",
    "    weighted_sum = sum(relevant_similar_users * similar_users_score[relevant_similar_users.index])\n",
    "    sum_of_weights = relevant_similar_users.sum()\n",
    "\n",
    "    predicted_rating = weighted_sum / sum_of_weights if sum_of_weights != 0 else 0\n",
    "else:\n",
    "    predicted_rating = None  # 无法预测评分"
   ],
   "id": "2c6e53288b6ffca7",
   "outputs": [
    {
     "name": "stdout",
     "output_type": "stream",
     "text": [
      "User2    0.852803\n",
      "User3    0.707107\n",
      "Name: User1, dtype: float64\n"
     ]
    }
   ],
   "execution_count": 11
  },
  {
   "metadata": {
    "ExecuteTime": {
     "end_time": "2025-03-14T05:49:09.479384Z",
     "start_time": "2025-03-14T05:49:09.475284Z"
    }
   },
   "cell_type": "code",
   "source": "print(f\"用户1对物品5的预测评分: {int(round(predicted_rating))}\")",
   "id": "5793a9c31df76434",
   "outputs": [
    {
     "name": "stdout",
     "output_type": "stream",
     "text": [
      "用户1对物品5的预测评分: 4\n"
     ]
    }
   ],
   "execution_count": 17
  },
  {
   "metadata": {
    "ExecuteTime": {
     "end_time": "2025-03-14T08:47:29.662169Z",
     "start_time": "2025-03-14T08:47:29.026783Z"
    }
   },
   "cell_type": "code",
   "source": [
    "import pandas as pd\n",
    "\n",
    "data = {\n",
    "    'A': [1, 4, 7],\n",
    "    'B': [2, 5, 8],\n",
    "    'C': [3, 6, 9]\n",
    "}\n",
    "\n",
    "df = pd.DataFrame(data)\n",
    "column_sum = df.sum(axis=0)  # 返回 A, B, C 列的和\n",
    "row_sum = df.sum(axis=1)  # 返回每一行的和"
   ],
   "id": "9d965c98ee44ac43",
   "outputs": [],
   "execution_count": 1
  },
  {
   "metadata": {
    "ExecuteTime": {
     "end_time": "2025-03-14T08:47:53.081897Z",
     "start_time": "2025-03-14T08:47:53.072309Z"
    }
   },
   "cell_type": "code",
   "source": "df",
   "id": "55b297fab6a1b795",
   "outputs": [
    {
     "data": {
      "text/plain": [
       "   A  B  C\n",
       "0  1  2  3\n",
       "1  4  5  6\n",
       "2  7  8  9"
      ],
      "text/html": [
       "<div>\n",
       "<style scoped>\n",
       "    .dataframe tbody tr th:only-of-type {\n",
       "        vertical-align: middle;\n",
       "    }\n",
       "\n",
       "    .dataframe tbody tr th {\n",
       "        vertical-align: top;\n",
       "    }\n",
       "\n",
       "    .dataframe thead th {\n",
       "        text-align: right;\n",
       "    }\n",
       "</style>\n",
       "<table border=\"1\" class=\"dataframe\">\n",
       "  <thead>\n",
       "    <tr style=\"text-align: right;\">\n",
       "      <th></th>\n",
       "      <th>A</th>\n",
       "      <th>B</th>\n",
       "      <th>C</th>\n",
       "    </tr>\n",
       "  </thead>\n",
       "  <tbody>\n",
       "    <tr>\n",
       "      <th>0</th>\n",
       "      <td>1</td>\n",
       "      <td>2</td>\n",
       "      <td>3</td>\n",
       "    </tr>\n",
       "    <tr>\n",
       "      <th>1</th>\n",
       "      <td>4</td>\n",
       "      <td>5</td>\n",
       "      <td>6</td>\n",
       "    </tr>\n",
       "    <tr>\n",
       "      <th>2</th>\n",
       "      <td>7</td>\n",
       "      <td>8</td>\n",
       "      <td>9</td>\n",
       "    </tr>\n",
       "  </tbody>\n",
       "</table>\n",
       "</div>"
      ]
     },
     "execution_count": 4,
     "metadata": {},
     "output_type": "execute_result"
    }
   ],
   "execution_count": 4
  },
  {
   "metadata": {
    "ExecuteTime": {
     "end_time": "2025-03-14T08:47:40.237251Z",
     "start_time": "2025-03-14T08:47:40.232254Z"
    }
   },
   "cell_type": "code",
   "source": "column_sum",
   "id": "557cd44857657107",
   "outputs": [
    {
     "data": {
      "text/plain": [
       "A    12\n",
       "B    15\n",
       "C    18\n",
       "dtype: int64"
      ]
     },
     "execution_count": 3,
     "metadata": {},
     "output_type": "execute_result"
    }
   ],
   "execution_count": 3
  },
  {
   "metadata": {
    "ExecuteTime": {
     "end_time": "2025-03-14T08:47:37.411650Z",
     "start_time": "2025-03-14T08:47:37.403777Z"
    }
   },
   "cell_type": "code",
   "source": "row_sum",
   "id": "6bf551fd74fb76d",
   "outputs": [
    {
     "data": {
      "text/plain": [
       "0     6\n",
       "1    15\n",
       "2    24\n",
       "dtype: int64"
      ]
     },
     "execution_count": 2,
     "metadata": {},
     "output_type": "execute_result"
    }
   ],
   "execution_count": 2
  },
  {
   "metadata": {
    "ExecuteTime": {
     "end_time": "2025-03-14T08:50:46.942990Z",
     "start_time": "2025-03-14T08:50:46.936602Z"
    }
   },
   "cell_type": "code",
   "source": [
    "import pandas as pd\n",
    "\n",
    "# 创建第一个 DataFrame\n",
    "df1 = pd.DataFrame({\n",
    "    'A': [1, 2, 3],\n",
    "    'B': [4, 5, 6]\n",
    "})\n",
    "\n",
    "# 创建第二个 DataFrame\n",
    "df2 = pd.DataFrame({\n",
    "    'C': [7, 8, 9],\n",
    "    'D': [10, 11, 12]\n",
    "})\n",
    "\n",
    "# 使用 concat 进行列合并\n",
    "result = pd.concat([df1, df2], axis=1)"
   ],
   "id": "3c3dbd7132d7243",
   "outputs": [],
   "execution_count": 9
  },
  {
   "metadata": {
    "ExecuteTime": {
     "end_time": "2025-03-14T08:50:47.540002Z",
     "start_time": "2025-03-14T08:50:47.531539Z"
    }
   },
   "cell_type": "code",
   "source": "result",
   "id": "1fb549dce846cc34",
   "outputs": [
    {
     "data": {
      "text/plain": [
       "   A  B  C   D\n",
       "0  1  4  7  10\n",
       "1  2  5  8  11\n",
       "2  3  6  9  12"
      ],
      "text/html": [
       "<div>\n",
       "<style scoped>\n",
       "    .dataframe tbody tr th:only-of-type {\n",
       "        vertical-align: middle;\n",
       "    }\n",
       "\n",
       "    .dataframe tbody tr th {\n",
       "        vertical-align: top;\n",
       "    }\n",
       "\n",
       "    .dataframe thead th {\n",
       "        text-align: right;\n",
       "    }\n",
       "</style>\n",
       "<table border=\"1\" class=\"dataframe\">\n",
       "  <thead>\n",
       "    <tr style=\"text-align: right;\">\n",
       "      <th></th>\n",
       "      <th>A</th>\n",
       "      <th>B</th>\n",
       "      <th>C</th>\n",
       "      <th>D</th>\n",
       "    </tr>\n",
       "  </thead>\n",
       "  <tbody>\n",
       "    <tr>\n",
       "      <th>0</th>\n",
       "      <td>1</td>\n",
       "      <td>4</td>\n",
       "      <td>7</td>\n",
       "      <td>10</td>\n",
       "    </tr>\n",
       "    <tr>\n",
       "      <th>1</th>\n",
       "      <td>2</td>\n",
       "      <td>5</td>\n",
       "      <td>8</td>\n",
       "      <td>11</td>\n",
       "    </tr>\n",
       "    <tr>\n",
       "      <th>2</th>\n",
       "      <td>3</td>\n",
       "      <td>6</td>\n",
       "      <td>9</td>\n",
       "      <td>12</td>\n",
       "    </tr>\n",
       "  </tbody>\n",
       "</table>\n",
       "</div>"
      ]
     },
     "execution_count": 10,
     "metadata": {},
     "output_type": "execute_result"
    }
   ],
   "execution_count": 10
  },
  {
   "metadata": {},
   "cell_type": "code",
   "outputs": [],
   "execution_count": null,
   "source": "    ",
   "id": "30539c4f89b32599"
  }
 ],
 "metadata": {
  "kernelspec": {
   "display_name": "Python 3",
   "language": "python",
   "name": "python3"
  },
  "language_info": {
   "codemirror_mode": {
    "name": "ipython",
    "version": 2
   },
   "file_extension": ".py",
   "mimetype": "text/x-python",
   "name": "python",
   "nbconvert_exporter": "python",
   "pygments_lexer": "ipython2",
   "version": "2.7.6"
  }
 },
 "nbformat": 4,
 "nbformat_minor": 5
}
